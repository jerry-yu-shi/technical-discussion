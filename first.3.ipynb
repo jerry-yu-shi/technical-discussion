{
  "nbformat": 4,
  "nbformat_minor": 0,
  "metadata": {
    "kernelspec": {
      "display_name": "Python 3",
      "language": "python",
      "name": "python3"
    },
    "language_info": {
      "codemirror_mode": {
        "name": "ipython",
        "version": 3
      },
      "file_extension": ".py",
      "mimetype": "text/x-python",
      "name": "python",
      "nbconvert_exporter": "python",
      "pygments_lexer": "ipython3",
      "version": "3.7.6"
    },
    "colab": {
      "name": "first.ipynb",
      "provenance": [],
      "include_colab_link": true
    }
  },
  "cells": [
    {
      "cell_type": "markdown",
      "metadata": {
        "id": "view-in-github",
        "colab_type": "text"
      },
      "source": [
        "<a href=\"https://colab.research.google.com/github/jerry-yu-shi/technical-discussion/blob/main/first.3.ipynb\" target=\"_parent\"><img src=\"https://colab.research.google.com/assets/colab-badge.svg\" alt=\"Open In Colab\"/></a>"
      ]
    },
    {
      "cell_type": "code",
      "metadata": {
        "id": "F3WyDmM1-JJd",
        "outputId": "52221e1b-7188-450b-ddb1-1f6b5aab2656"
      },
      "source": [
        "print(\"hello world\")"
      ],
      "execution_count": null,
      "outputs": [
        {
          "output_type": "stream",
          "text": [
            "hello world\n"
          ],
          "name": "stdout"
        }
      ]
    },
    {
      "cell_type": "markdown",
      "metadata": {
        "id": "oYHC-6up-JJf"
      },
      "source": [
        "# This is a title\n",
        "\n",
        "Statement goes here\n",
        "\n",
        "It's very easy to make some words **bold** and other words *italic* with Markdown. You can even [link to Google!](http://google.com)\n",
        "\n",
        "1. One\n",
        "2. Two\n",
        "3. Three\n",
        "\n",
        "Sometimes you want bullet points:\n",
        "\n",
        "* Start a line with a star\n",
        "* Profit!\n",
        "\n",
        "Alternatively,\n",
        "\n",
        "- Dashes work just as well\n",
        "- And if you have sub points, put two spaces before the dash or star:\n",
        "  - Like this\n",
        "  - And this\n",
        "\n",
        "# This is an <h1> tag\n",
        "## This is an <h2> tag\n",
        "###### This is an <h6> tag\n",
        "\n",
        "[lab](https://hub.labs.coursera.org:443/connect/sharednlmfvtod?forceRefresh=false)\n",
        "\n",
        "\n"
      ]
    }
  ]
}